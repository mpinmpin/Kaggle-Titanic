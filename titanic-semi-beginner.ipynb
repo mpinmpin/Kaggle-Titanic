{
 "cells": [
  {
   "cell_type": "code",
   "execution_count": 1,
   "id": "beab1a7e",
   "metadata": {
    "_cell_guid": "b1076dfc-b9ad-4769-8c92-a6c4dae69d19",
    "_uuid": "8f2839f25d086af736a60e9eeb907d3b93b6e0e5",
    "execution": {
     "iopub.execute_input": "2023-02-25T03:59:04.852589Z",
     "iopub.status.busy": "2023-02-25T03:59:04.851963Z",
     "iopub.status.idle": "2023-02-25T03:59:06.257586Z",
     "shell.execute_reply": "2023-02-25T03:59:06.256533Z"
    },
    "papermill": {
     "duration": 1.419318,
     "end_time": "2023-02-25T03:59:06.261057",
     "exception": false,
     "start_time": "2023-02-25T03:59:04.841739",
     "status": "completed"
    },
    "tags": []
   },
   "outputs": [
    {
     "name": "stdout",
     "output_type": "stream",
     "text": [
      "/kaggle/input/titanic/train.csv\n",
      "/kaggle/input/titanic/test.csv\n",
      "/kaggle/input/titanic/gender_submission.csv\n"
     ]
    }
   ],
   "source": [
    "import numpy as np \n",
    "import pandas as pd \n",
    "import matplotlib.pyplot as plt\n",
    "import time\n",
    "import seaborn as sns\n",
    "\n",
    "import os\n",
    "for dirname, _, filenames in os.walk('/kaggle/input'):\n",
    "    for filename in filenames:\n",
    "        print(os.path.join(dirname, filename))"
   ]
  },
  {
   "cell_type": "code",
   "execution_count": 2,
   "id": "a86086f4",
   "metadata": {
    "execution": {
     "iopub.execute_input": "2023-02-25T03:59:06.279182Z",
     "iopub.status.busy": "2023-02-25T03:59:06.278074Z",
     "iopub.status.idle": "2023-02-25T03:59:06.318109Z",
     "shell.execute_reply": "2023-02-25T03:59:06.316727Z"
    },
    "papermill": {
     "duration": 0.05186,
     "end_time": "2023-02-25T03:59:06.321163",
     "exception": false,
     "start_time": "2023-02-25T03:59:06.269303",
     "status": "completed"
    },
    "tags": []
   },
   "outputs": [],
   "source": [
    "train_data = pd.read_csv('/kaggle/input/titanic/train.csv')\n",
    "test_data = pd.read_csv('/kaggle/input/titanic/test.csv')\n",
    "gender_data = pd.read_csv('/kaggle/input/titanic/gender_submission.csv')"
   ]
  },
  {
   "cell_type": "code",
   "execution_count": 3,
   "id": "70314d59",
   "metadata": {
    "execution": {
     "iopub.execute_input": "2023-02-25T03:59:06.337754Z",
     "iopub.status.busy": "2023-02-25T03:59:06.337359Z",
     "iopub.status.idle": "2023-02-25T03:59:06.364919Z",
     "shell.execute_reply": "2023-02-25T03:59:06.363246Z"
    },
    "papermill": {
     "duration": 0.039703,
     "end_time": "2023-02-25T03:59:06.368076",
     "exception": false,
     "start_time": "2023-02-25T03:59:06.328373",
     "status": "completed"
    },
    "tags": []
   },
   "outputs": [
    {
     "name": "stdout",
     "output_type": "stream",
     "text": [
      "(891, 12)\n"
     ]
    },
    {
     "data": {
      "text/html": [
       "<div>\n",
       "<style scoped>\n",
       "    .dataframe tbody tr th:only-of-type {\n",
       "        vertical-align: middle;\n",
       "    }\n",
       "\n",
       "    .dataframe tbody tr th {\n",
       "        vertical-align: top;\n",
       "    }\n",
       "\n",
       "    .dataframe thead th {\n",
       "        text-align: right;\n",
       "    }\n",
       "</style>\n",
       "<table border=\"1\" class=\"dataframe\">\n",
       "  <thead>\n",
       "    <tr style=\"text-align: right;\">\n",
       "      <th></th>\n",
       "      <th>PassengerId</th>\n",
       "      <th>Survived</th>\n",
       "      <th>Pclass</th>\n",
       "      <th>Name</th>\n",
       "      <th>Sex</th>\n",
       "      <th>Age</th>\n",
       "      <th>SibSp</th>\n",
       "      <th>Parch</th>\n",
       "      <th>Ticket</th>\n",
       "      <th>Fare</th>\n",
       "      <th>Cabin</th>\n",
       "      <th>Embarked</th>\n",
       "    </tr>\n",
       "  </thead>\n",
       "  <tbody>\n",
       "    <tr>\n",
       "      <th>0</th>\n",
       "      <td>1</td>\n",
       "      <td>0</td>\n",
       "      <td>3</td>\n",
       "      <td>Braund, Mr. Owen Harris</td>\n",
       "      <td>male</td>\n",
       "      <td>22.0</td>\n",
       "      <td>1</td>\n",
       "      <td>0</td>\n",
       "      <td>A/5 21171</td>\n",
       "      <td>7.2500</td>\n",
       "      <td>NaN</td>\n",
       "      <td>S</td>\n",
       "    </tr>\n",
       "    <tr>\n",
       "      <th>1</th>\n",
       "      <td>2</td>\n",
       "      <td>1</td>\n",
       "      <td>1</td>\n",
       "      <td>Cumings, Mrs. John Bradley (Florence Briggs Th...</td>\n",
       "      <td>female</td>\n",
       "      <td>38.0</td>\n",
       "      <td>1</td>\n",
       "      <td>0</td>\n",
       "      <td>PC 17599</td>\n",
       "      <td>71.2833</td>\n",
       "      <td>C85</td>\n",
       "      <td>C</td>\n",
       "    </tr>\n",
       "    <tr>\n",
       "      <th>2</th>\n",
       "      <td>3</td>\n",
       "      <td>1</td>\n",
       "      <td>3</td>\n",
       "      <td>Heikkinen, Miss. Laina</td>\n",
       "      <td>female</td>\n",
       "      <td>26.0</td>\n",
       "      <td>0</td>\n",
       "      <td>0</td>\n",
       "      <td>STON/O2. 3101282</td>\n",
       "      <td>7.9250</td>\n",
       "      <td>NaN</td>\n",
       "      <td>S</td>\n",
       "    </tr>\n",
       "  </tbody>\n",
       "</table>\n",
       "</div>"
      ],
      "text/plain": [
       "   PassengerId  Survived  Pclass  \\\n",
       "0            1         0       3   \n",
       "1            2         1       1   \n",
       "2            3         1       3   \n",
       "\n",
       "                                                Name     Sex   Age  SibSp  \\\n",
       "0                            Braund, Mr. Owen Harris    male  22.0      1   \n",
       "1  Cumings, Mrs. John Bradley (Florence Briggs Th...  female  38.0      1   \n",
       "2                             Heikkinen, Miss. Laina  female  26.0      0   \n",
       "\n",
       "   Parch            Ticket     Fare Cabin Embarked  \n",
       "0      0         A/5 21171   7.2500   NaN        S  \n",
       "1      0          PC 17599  71.2833   C85        C  \n",
       "2      0  STON/O2. 3101282   7.9250   NaN        S  "
      ]
     },
     "execution_count": 3,
     "metadata": {},
     "output_type": "execute_result"
    }
   ],
   "source": [
    "print(train_data.shape)\n",
    "train_data.head(3)"
   ]
  },
  {
   "cell_type": "code",
   "execution_count": 4,
   "id": "82c955da",
   "metadata": {
    "execution": {
     "iopub.execute_input": "2023-02-25T03:59:06.386311Z",
     "iopub.status.busy": "2023-02-25T03:59:06.385170Z",
     "iopub.status.idle": "2023-02-25T03:59:06.428631Z",
     "shell.execute_reply": "2023-02-25T03:59:06.427265Z"
    },
    "papermill": {
     "duration": 0.055765,
     "end_time": "2023-02-25T03:59:06.431592",
     "exception": false,
     "start_time": "2023-02-25T03:59:06.375827",
     "status": "completed"
    },
    "tags": []
   },
   "outputs": [
    {
     "name": "stdout",
     "output_type": "stream",
     "text": [
      "<class 'pandas.core.frame.DataFrame'>\n",
      "RangeIndex: 891 entries, 0 to 890\n",
      "Data columns (total 12 columns):\n",
      " #   Column       Non-Null Count  Dtype  \n",
      "---  ------       --------------  -----  \n",
      " 0   PassengerId  891 non-null    int64  \n",
      " 1   Survived     891 non-null    int64  \n",
      " 2   Pclass       891 non-null    int64  \n",
      " 3   Name         891 non-null    object \n",
      " 4   Sex          891 non-null    object \n",
      " 5   Age          714 non-null    float64\n",
      " 6   SibSp        891 non-null    int64  \n",
      " 7   Parch        891 non-null    int64  \n",
      " 8   Ticket       891 non-null    object \n",
      " 9   Fare         891 non-null    float64\n",
      " 10  Cabin        204 non-null    object \n",
      " 11  Embarked     889 non-null    object \n",
      "dtypes: float64(2), int64(5), object(5)\n",
      "memory usage: 83.7+ KB\n",
      "None\n",
      "-----------------------------------------\n",
      "<class 'pandas.core.frame.DataFrame'>\n",
      "RangeIndex: 418 entries, 0 to 417\n",
      "Data columns (total 11 columns):\n",
      " #   Column       Non-Null Count  Dtype  \n",
      "---  ------       --------------  -----  \n",
      " 0   PassengerId  418 non-null    int64  \n",
      " 1   Pclass       418 non-null    int64  \n",
      " 2   Name         418 non-null    object \n",
      " 3   Sex          418 non-null    object \n",
      " 4   Age          332 non-null    float64\n",
      " 5   SibSp        418 non-null    int64  \n",
      " 6   Parch        418 non-null    int64  \n",
      " 7   Ticket       418 non-null    object \n",
      " 8   Fare         417 non-null    float64\n",
      " 9   Cabin        91 non-null     object \n",
      " 10  Embarked     418 non-null    object \n",
      "dtypes: float64(2), int64(4), object(5)\n",
      "memory usage: 36.0+ KB\n",
      "None\n"
     ]
    }
   ],
   "source": [
    "print(train_data.info())\n",
    "print(\"-----------------------------------------\")\n",
    "print(test_data.info())"
   ]
  },
  {
   "cell_type": "code",
   "execution_count": 5,
   "id": "7f848c6b",
   "metadata": {
    "execution": {
     "iopub.execute_input": "2023-02-25T03:59:06.450186Z",
     "iopub.status.busy": "2023-02-25T03:59:06.449726Z",
     "iopub.status.idle": "2023-02-25T03:59:06.462519Z",
     "shell.execute_reply": "2023-02-25T03:59:06.460917Z"
    },
    "papermill": {
     "duration": 0.025225,
     "end_time": "2023-02-25T03:59:06.465533",
     "exception": false,
     "start_time": "2023-02-25T03:59:06.440308",
     "status": "completed"
    },
    "tags": []
   },
   "outputs": [
    {
     "name": "stdout",
     "output_type": "stream",
     "text": [
      "PassengerId      0\n",
      "Survived         0\n",
      "Pclass           0\n",
      "Name             0\n",
      "Sex              0\n",
      "Age            177\n",
      "SibSp            0\n",
      "Parch            0\n",
      "Ticket           0\n",
      "Fare             0\n",
      "Cabin          687\n",
      "Embarked         2\n",
      "dtype: int64\n",
      "-----------------------------------------\n",
      "PassengerId      0\n",
      "Pclass           0\n",
      "Name             0\n",
      "Sex              0\n",
      "Age             86\n",
      "SibSp            0\n",
      "Parch            0\n",
      "Ticket           0\n",
      "Fare             1\n",
      "Cabin          327\n",
      "Embarked         0\n",
      "dtype: int64\n"
     ]
    }
   ],
   "source": [
    "print(train_data.isnull().sum())\n",
    "print(\"-----------------------------------------\")\n",
    "print(test_data.isnull().sum())"
   ]
  },
  {
   "cell_type": "code",
   "execution_count": 6,
   "id": "98d70ebd",
   "metadata": {
    "execution": {
     "iopub.execute_input": "2023-02-25T03:59:06.482630Z",
     "iopub.status.busy": "2023-02-25T03:59:06.482228Z",
     "iopub.status.idle": "2023-02-25T03:59:06.493153Z",
     "shell.execute_reply": "2023-02-25T03:59:06.491911Z"
    },
    "papermill": {
     "duration": 0.023077,
     "end_time": "2023-02-25T03:59:06.496353",
     "exception": false,
     "start_time": "2023-02-25T03:59:06.473276",
     "status": "completed"
    },
    "tags": []
   },
   "outputs": [
    {
     "data": {
      "text/plain": [
       "S      644\n",
       "C      168\n",
       "Q       77\n",
       "NaN      2\n",
       "Name: Embarked, dtype: int64"
      ]
     },
     "execution_count": 6,
     "metadata": {},
     "output_type": "execute_result"
    }
   ],
   "source": [
    "train_data['Embarked'].value_counts(dropna=False)"
   ]
  },
  {
   "cell_type": "code",
   "execution_count": 7,
   "id": "b2227e03",
   "metadata": {
    "execution": {
     "iopub.execute_input": "2023-02-25T03:59:06.516754Z",
     "iopub.status.busy": "2023-02-25T03:59:06.516336Z",
     "iopub.status.idle": "2023-02-25T03:59:06.522798Z",
     "shell.execute_reply": "2023-02-25T03:59:06.521359Z"
    },
    "papermill": {
     "duration": 0.018662,
     "end_time": "2023-02-25T03:59:06.525345",
     "exception": false,
     "start_time": "2023-02-25T03:59:06.506683",
     "status": "completed"
    },
    "tags": []
   },
   "outputs": [],
   "source": [
    "train_data['Embarked'] = train_data['Embarked'].fillna(\"S\") "
   ]
  },
  {
   "cell_type": "code",
   "execution_count": 8,
   "id": "0f040e80",
   "metadata": {
    "execution": {
     "iopub.execute_input": "2023-02-25T03:59:06.543059Z",
     "iopub.status.busy": "2023-02-25T03:59:06.542617Z",
     "iopub.status.idle": "2023-02-25T03:59:06.553103Z",
     "shell.execute_reply": "2023-02-25T03:59:06.551378Z"
    },
    "papermill": {
     "duration": 0.022411,
     "end_time": "2023-02-25T03:59:06.555953",
     "exception": false,
     "start_time": "2023-02-25T03:59:06.533542",
     "status": "completed"
    },
    "tags": []
   },
   "outputs": [
    {
     "data": {
      "text/plain": [
       "S    646\n",
       "C    168\n",
       "Q     77\n",
       "Name: Embarked, dtype: int64"
      ]
     },
     "execution_count": 8,
     "metadata": {},
     "output_type": "execute_result"
    }
   ],
   "source": [
    "train_data['Embarked'].value_counts(dropna=False)"
   ]
  },
  {
   "cell_type": "code",
   "execution_count": 9,
   "id": "dae5cf08",
   "metadata": {
    "execution": {
     "iopub.execute_input": "2023-02-25T03:59:06.573647Z",
     "iopub.status.busy": "2023-02-25T03:59:06.573155Z",
     "iopub.status.idle": "2023-02-25T03:59:06.584747Z",
     "shell.execute_reply": "2023-02-25T03:59:06.583552Z"
    },
    "papermill": {
     "duration": 0.023461,
     "end_time": "2023-02-25T03:59:06.587375",
     "exception": false,
     "start_time": "2023-02-25T03:59:06.563914",
     "status": "completed"
    },
    "tags": []
   },
   "outputs": [
    {
     "data": {
      "text/plain": [
       "0                                Braund, Mr. Owen Harris\n",
       "1      Cumings, Mrs. John Bradley (Florence Briggs Th...\n",
       "2                                 Heikkinen, Miss. Laina\n",
       "3           Futrelle, Mrs. Jacques Heath (Lily May Peel)\n",
       "4                               Allen, Mr. William Henry\n",
       "                             ...                        \n",
       "886                                Montvila, Rev. Juozas\n",
       "887                         Graham, Miss. Margaret Edith\n",
       "888             Johnston, Miss. Catherine Helen \"Carrie\"\n",
       "889                                Behr, Mr. Karl Howell\n",
       "890                                  Dooley, Mr. Patrick\n",
       "Name: Name, Length: 891, dtype: object"
      ]
     },
     "execution_count": 9,
     "metadata": {},
     "output_type": "execute_result"
    }
   ],
   "source": [
    "name = train_data['Name']\n",
    "name2 = test_data['Name']\n",
    "name"
   ]
  },
  {
   "cell_type": "code",
   "execution_count": 10,
   "id": "2cd4e0c6",
   "metadata": {
    "execution": {
     "iopub.execute_input": "2023-02-25T03:59:06.606790Z",
     "iopub.status.busy": "2023-02-25T03:59:06.606317Z",
     "iopub.status.idle": "2023-02-25T03:59:06.629875Z",
     "shell.execute_reply": "2023-02-25T03:59:06.628659Z"
    },
    "papermill": {
     "duration": 0.036568,
     "end_time": "2023-02-25T03:59:06.632459",
     "exception": false,
     "start_time": "2023-02-25T03:59:06.595891",
     "status": "completed"
    },
    "tags": []
   },
   "outputs": [
    {
     "data": {
      "text/plain": [
       "Mr              517\n",
       "Miss            182\n",
       "Mrs             125\n",
       "Master           40\n",
       "Dr                7\n",
       "Rev               6\n",
       "Mlle              2\n",
       "Major             2\n",
       "Col               2\n",
       "the Countess      1\n",
       "Capt              1\n",
       "Ms                1\n",
       "Sir               1\n",
       "Lady              1\n",
       "Mme               1\n",
       "Don               1\n",
       "Jonkheer          1\n",
       "Name: 0, dtype: int64"
      ]
     },
     "execution_count": 10,
     "metadata": {},
     "output_type": "execute_result"
    }
   ],
   "source": [
    "namesplit = name.str.split(', ', expand=True)[1].str.split('.', expand=True)[0]\n",
    "namesplit2 = name2.str.split(', ', expand=True)[1].str.split('.', expand=True)[0]\n",
    "namesplit.value_counts()"
   ]
  },
  {
   "cell_type": "code",
   "execution_count": 11,
   "id": "b7779df2",
   "metadata": {
    "execution": {
     "iopub.execute_input": "2023-02-25T03:59:06.651873Z",
     "iopub.status.busy": "2023-02-25T03:59:06.651149Z",
     "iopub.status.idle": "2023-02-25T03:59:06.658185Z",
     "shell.execute_reply": "2023-02-25T03:59:06.656772Z"
    },
    "papermill": {
     "duration": 0.020448,
     "end_time": "2023-02-25T03:59:06.660999",
     "exception": false,
     "start_time": "2023-02-25T03:59:06.640551",
     "status": "completed"
    },
    "tags": []
   },
   "outputs": [],
   "source": [
    "train_data['Title'] = namesplit\n",
    "test_data['Title'] = namesplit2"
   ]
  },
  {
   "cell_type": "code",
   "execution_count": 12,
   "id": "2a245b96",
   "metadata": {
    "execution": {
     "iopub.execute_input": "2023-02-25T03:59:06.681261Z",
     "iopub.status.busy": "2023-02-25T03:59:06.680420Z",
     "iopub.status.idle": "2023-02-25T03:59:06.700074Z",
     "shell.execute_reply": "2023-02-25T03:59:06.698362Z"
    },
    "papermill": {
     "duration": 0.033673,
     "end_time": "2023-02-25T03:59:06.703072",
     "exception": false,
     "start_time": "2023-02-25T03:59:06.669399",
     "status": "completed"
    },
    "tags": []
   },
   "outputs": [
    {
     "data": {
      "text/html": [
       "<div>\n",
       "<style scoped>\n",
       "    .dataframe tbody tr th:only-of-type {\n",
       "        vertical-align: middle;\n",
       "    }\n",
       "\n",
       "    .dataframe tbody tr th {\n",
       "        vertical-align: top;\n",
       "    }\n",
       "\n",
       "    .dataframe thead th {\n",
       "        text-align: right;\n",
       "    }\n",
       "</style>\n",
       "<table border=\"1\" class=\"dataframe\">\n",
       "  <thead>\n",
       "    <tr style=\"text-align: right;\">\n",
       "      <th></th>\n",
       "      <th>PassengerId</th>\n",
       "      <th>Survived</th>\n",
       "      <th>Pclass</th>\n",
       "      <th>Name</th>\n",
       "      <th>Sex</th>\n",
       "      <th>Age</th>\n",
       "      <th>SibSp</th>\n",
       "      <th>Parch</th>\n",
       "      <th>Ticket</th>\n",
       "      <th>Fare</th>\n",
       "      <th>Cabin</th>\n",
       "      <th>Embarked</th>\n",
       "      <th>Title</th>\n",
       "    </tr>\n",
       "  </thead>\n",
       "  <tbody>\n",
       "    <tr>\n",
       "      <th>0</th>\n",
       "      <td>1</td>\n",
       "      <td>0</td>\n",
       "      <td>3</td>\n",
       "      <td>Braund, Mr. Owen Harris</td>\n",
       "      <td>male</td>\n",
       "      <td>22.0</td>\n",
       "      <td>1</td>\n",
       "      <td>0</td>\n",
       "      <td>A/5 21171</td>\n",
       "      <td>7.2500</td>\n",
       "      <td>NaN</td>\n",
       "      <td>S</td>\n",
       "      <td>Mr</td>\n",
       "    </tr>\n",
       "    <tr>\n",
       "      <th>1</th>\n",
       "      <td>2</td>\n",
       "      <td>1</td>\n",
       "      <td>1</td>\n",
       "      <td>Cumings, Mrs. John Bradley (Florence Briggs Th...</td>\n",
       "      <td>female</td>\n",
       "      <td>38.0</td>\n",
       "      <td>1</td>\n",
       "      <td>0</td>\n",
       "      <td>PC 17599</td>\n",
       "      <td>71.2833</td>\n",
       "      <td>C85</td>\n",
       "      <td>C</td>\n",
       "      <td>Mrs</td>\n",
       "    </tr>\n",
       "    <tr>\n",
       "      <th>2</th>\n",
       "      <td>3</td>\n",
       "      <td>1</td>\n",
       "      <td>3</td>\n",
       "      <td>Heikkinen, Miss. Laina</td>\n",
       "      <td>female</td>\n",
       "      <td>26.0</td>\n",
       "      <td>0</td>\n",
       "      <td>0</td>\n",
       "      <td>STON/O2. 3101282</td>\n",
       "      <td>7.9250</td>\n",
       "      <td>NaN</td>\n",
       "      <td>S</td>\n",
       "      <td>Miss</td>\n",
       "    </tr>\n",
       "  </tbody>\n",
       "</table>\n",
       "</div>"
      ],
      "text/plain": [
       "   PassengerId  Survived  Pclass  \\\n",
       "0            1         0       3   \n",
       "1            2         1       1   \n",
       "2            3         1       3   \n",
       "\n",
       "                                                Name     Sex   Age  SibSp  \\\n",
       "0                            Braund, Mr. Owen Harris    male  22.0      1   \n",
       "1  Cumings, Mrs. John Bradley (Florence Briggs Th...  female  38.0      1   \n",
       "2                             Heikkinen, Miss. Laina  female  26.0      0   \n",
       "\n",
       "   Parch            Ticket     Fare Cabin Embarked Title  \n",
       "0      0         A/5 21171   7.2500   NaN        S    Mr  \n",
       "1      0          PC 17599  71.2833   C85        C   Mrs  \n",
       "2      0  STON/O2. 3101282   7.9250   NaN        S  Miss  "
      ]
     },
     "execution_count": 12,
     "metadata": {},
     "output_type": "execute_result"
    }
   ],
   "source": [
    "train_data.head(3)"
   ]
  },
  {
   "cell_type": "code",
   "execution_count": 13,
   "id": "de638cb6",
   "metadata": {
    "execution": {
     "iopub.execute_input": "2023-02-25T03:59:06.722773Z",
     "iopub.status.busy": "2023-02-25T03:59:06.722238Z",
     "iopub.status.idle": "2023-02-25T03:59:06.737679Z",
     "shell.execute_reply": "2023-02-25T03:59:06.736543Z"
    },
    "papermill": {
     "duration": 0.028391,
     "end_time": "2023-02-25T03:59:06.740325",
     "exception": false,
     "start_time": "2023-02-25T03:59:06.711934",
     "status": "completed"
    },
    "tags": []
   },
   "outputs": [],
   "source": [
    "train_data['Title'] = train_data['Title'].replace(['Miss', 'Mrs','Ms', 'Mlle', 'Lady', 'Mme', 'the Countess', 'Dona'], 'Female_Other')\n",
    "train_data['Title'] = train_data['Title'].replace(['Dr', 'Col', 'Major', 'Jonkheer', 'Capt', 'Sir', 'Don', 'Rev'], 'Male_Other')\n",
    "\n",
    "test_data['Title'] = test_data['Title'].replace(['Miss', 'Mrs','Ms', 'Mlle', 'Lady', 'Mme', 'the Countess', 'Dona'], 'Female_Other')\n",
    "test_data['Title'] = test_data['Title'].replace(['Dr', 'Col', 'Major', 'Jonkheer', 'Capt', 'Sir', 'Don', 'Rev'], 'Male_Other')"
   ]
  },
  {
   "cell_type": "code",
   "execution_count": 14,
   "id": "4e23482d",
   "metadata": {
    "execution": {
     "iopub.execute_input": "2023-02-25T03:59:06.759680Z",
     "iopub.status.busy": "2023-02-25T03:59:06.759052Z",
     "iopub.status.idle": "2023-02-25T03:59:06.772999Z",
     "shell.execute_reply": "2023-02-25T03:59:06.771704Z"
    },
    "papermill": {
     "duration": 0.026511,
     "end_time": "2023-02-25T03:59:06.775702",
     "exception": false,
     "start_time": "2023-02-25T03:59:06.749191",
     "status": "completed"
    },
    "tags": []
   },
   "outputs": [
    {
     "name": "stdout",
     "output_type": "stream",
     "text": [
      "<class 'pandas.core.frame.DataFrame'>\n",
      "RangeIndex: 891 entries, 0 to 890\n",
      "Data columns (total 13 columns):\n",
      " #   Column       Non-Null Count  Dtype  \n",
      "---  ------       --------------  -----  \n",
      " 0   PassengerId  891 non-null    int64  \n",
      " 1   Survived     891 non-null    int64  \n",
      " 2   Pclass       891 non-null    int64  \n",
      " 3   Name         891 non-null    object \n",
      " 4   Sex          891 non-null    object \n",
      " 5   Age          714 non-null    float64\n",
      " 6   SibSp        891 non-null    int64  \n",
      " 7   Parch        891 non-null    int64  \n",
      " 8   Ticket       891 non-null    object \n",
      " 9   Fare         891 non-null    float64\n",
      " 10  Cabin        204 non-null    object \n",
      " 11  Embarked     891 non-null    object \n",
      " 12  Title        891 non-null    object \n",
      "dtypes: float64(2), int64(5), object(6)\n",
      "memory usage: 90.6+ KB\n"
     ]
    }
   ],
   "source": [
    "train_data.info()"
   ]
  },
  {
   "cell_type": "code",
   "execution_count": 15,
   "id": "edf3183d",
   "metadata": {
    "execution": {
     "iopub.execute_input": "2023-02-25T03:59:06.795110Z",
     "iopub.status.busy": "2023-02-25T03:59:06.794230Z",
     "iopub.status.idle": "2023-02-25T03:59:06.806179Z",
     "shell.execute_reply": "2023-02-25T03:59:06.804556Z"
    },
    "papermill": {
     "duration": 0.02531,
     "end_time": "2023-02-25T03:59:06.809258",
     "exception": false,
     "start_time": "2023-02-25T03:59:06.783948",
     "status": "completed"
    },
    "tags": []
   },
   "outputs": [],
   "source": [
    "train_data.drop(columns=['Ticket', 'Cabin', 'Name'], inplace=True)\n",
    "test_data.drop(columns=['Ticket', 'Cabin', 'Name'], inplace=True)"
   ]
  },
  {
   "cell_type": "code",
   "execution_count": 16,
   "id": "52449d57",
   "metadata": {
    "execution": {
     "iopub.execute_input": "2023-02-25T03:59:06.828178Z",
     "iopub.status.busy": "2023-02-25T03:59:06.827744Z",
     "iopub.status.idle": "2023-02-25T03:59:06.845894Z",
     "shell.execute_reply": "2023-02-25T03:59:06.844426Z"
    },
    "papermill": {
     "duration": 0.031317,
     "end_time": "2023-02-25T03:59:06.848840",
     "exception": false,
     "start_time": "2023-02-25T03:59:06.817523",
     "status": "completed"
    },
    "tags": []
   },
   "outputs": [
    {
     "data": {
      "text/html": [
       "<div>\n",
       "<style scoped>\n",
       "    .dataframe tbody tr th:only-of-type {\n",
       "        vertical-align: middle;\n",
       "    }\n",
       "\n",
       "    .dataframe tbody tr th {\n",
       "        vertical-align: top;\n",
       "    }\n",
       "\n",
       "    .dataframe thead th {\n",
       "        text-align: right;\n",
       "    }\n",
       "</style>\n",
       "<table border=\"1\" class=\"dataframe\">\n",
       "  <thead>\n",
       "    <tr style=\"text-align: right;\">\n",
       "      <th></th>\n",
       "      <th>PassengerId</th>\n",
       "      <th>Survived</th>\n",
       "      <th>Pclass</th>\n",
       "      <th>Sex</th>\n",
       "      <th>Age</th>\n",
       "      <th>SibSp</th>\n",
       "      <th>Parch</th>\n",
       "      <th>Fare</th>\n",
       "      <th>Embarked</th>\n",
       "      <th>Title</th>\n",
       "    </tr>\n",
       "  </thead>\n",
       "  <tbody>\n",
       "    <tr>\n",
       "      <th>0</th>\n",
       "      <td>1</td>\n",
       "      <td>0</td>\n",
       "      <td>3</td>\n",
       "      <td>male</td>\n",
       "      <td>22.0</td>\n",
       "      <td>1</td>\n",
       "      <td>0</td>\n",
       "      <td>7.2500</td>\n",
       "      <td>S</td>\n",
       "      <td>Mr</td>\n",
       "    </tr>\n",
       "    <tr>\n",
       "      <th>1</th>\n",
       "      <td>2</td>\n",
       "      <td>1</td>\n",
       "      <td>1</td>\n",
       "      <td>female</td>\n",
       "      <td>38.0</td>\n",
       "      <td>1</td>\n",
       "      <td>0</td>\n",
       "      <td>71.2833</td>\n",
       "      <td>C</td>\n",
       "      <td>Female_Other</td>\n",
       "    </tr>\n",
       "    <tr>\n",
       "      <th>2</th>\n",
       "      <td>3</td>\n",
       "      <td>1</td>\n",
       "      <td>3</td>\n",
       "      <td>female</td>\n",
       "      <td>26.0</td>\n",
       "      <td>0</td>\n",
       "      <td>0</td>\n",
       "      <td>7.9250</td>\n",
       "      <td>S</td>\n",
       "      <td>Female_Other</td>\n",
       "    </tr>\n",
       "    <tr>\n",
       "      <th>3</th>\n",
       "      <td>4</td>\n",
       "      <td>1</td>\n",
       "      <td>1</td>\n",
       "      <td>female</td>\n",
       "      <td>35.0</td>\n",
       "      <td>1</td>\n",
       "      <td>0</td>\n",
       "      <td>53.1000</td>\n",
       "      <td>S</td>\n",
       "      <td>Female_Other</td>\n",
       "    </tr>\n",
       "  </tbody>\n",
       "</table>\n",
       "</div>"
      ],
      "text/plain": [
       "   PassengerId  Survived  Pclass     Sex   Age  SibSp  Parch     Fare  \\\n",
       "0            1         0       3    male  22.0      1      0   7.2500   \n",
       "1            2         1       1  female  38.0      1      0  71.2833   \n",
       "2            3         1       3  female  26.0      0      0   7.9250   \n",
       "3            4         1       1  female  35.0      1      0  53.1000   \n",
       "\n",
       "  Embarked         Title  \n",
       "0        S            Mr  \n",
       "1        C  Female_Other  \n",
       "2        S  Female_Other  \n",
       "3        S  Female_Other  "
      ]
     },
     "execution_count": 16,
     "metadata": {},
     "output_type": "execute_result"
    }
   ],
   "source": [
    "train_data.head(4)"
   ]
  },
  {
   "cell_type": "code",
   "execution_count": 17,
   "id": "28d982f4",
   "metadata": {
    "execution": {
     "iopub.execute_input": "2023-02-25T03:59:06.868298Z",
     "iopub.status.busy": "2023-02-25T03:59:06.867819Z",
     "iopub.status.idle": "2023-02-25T03:59:06.885707Z",
     "shell.execute_reply": "2023-02-25T03:59:06.884223Z"
    },
    "papermill": {
     "duration": 0.031297,
     "end_time": "2023-02-25T03:59:06.889039",
     "exception": false,
     "start_time": "2023-02-25T03:59:06.857742",
     "status": "completed"
    },
    "tags": []
   },
   "outputs": [
    {
     "data": {
      "text/html": [
       "<div>\n",
       "<style scoped>\n",
       "    .dataframe tbody tr th:only-of-type {\n",
       "        vertical-align: middle;\n",
       "    }\n",
       "\n",
       "    .dataframe tbody tr th {\n",
       "        vertical-align: top;\n",
       "    }\n",
       "\n",
       "    .dataframe thead th {\n",
       "        text-align: right;\n",
       "    }\n",
       "</style>\n",
       "<table border=\"1\" class=\"dataframe\">\n",
       "  <thead>\n",
       "    <tr style=\"text-align: right;\">\n",
       "      <th></th>\n",
       "      <th>PassengerId</th>\n",
       "      <th>Pclass</th>\n",
       "      <th>Sex</th>\n",
       "      <th>Age</th>\n",
       "      <th>SibSp</th>\n",
       "      <th>Parch</th>\n",
       "      <th>Fare</th>\n",
       "      <th>Embarked</th>\n",
       "      <th>Title</th>\n",
       "    </tr>\n",
       "  </thead>\n",
       "  <tbody>\n",
       "    <tr>\n",
       "      <th>0</th>\n",
       "      <td>892</td>\n",
       "      <td>3</td>\n",
       "      <td>male</td>\n",
       "      <td>34.5</td>\n",
       "      <td>0</td>\n",
       "      <td>0</td>\n",
       "      <td>7.8292</td>\n",
       "      <td>Q</td>\n",
       "      <td>Mr</td>\n",
       "    </tr>\n",
       "    <tr>\n",
       "      <th>1</th>\n",
       "      <td>893</td>\n",
       "      <td>3</td>\n",
       "      <td>female</td>\n",
       "      <td>47.0</td>\n",
       "      <td>1</td>\n",
       "      <td>0</td>\n",
       "      <td>7.0000</td>\n",
       "      <td>S</td>\n",
       "      <td>Female_Other</td>\n",
       "    </tr>\n",
       "    <tr>\n",
       "      <th>2</th>\n",
       "      <td>894</td>\n",
       "      <td>2</td>\n",
       "      <td>male</td>\n",
       "      <td>62.0</td>\n",
       "      <td>0</td>\n",
       "      <td>0</td>\n",
       "      <td>9.6875</td>\n",
       "      <td>Q</td>\n",
       "      <td>Mr</td>\n",
       "    </tr>\n",
       "    <tr>\n",
       "      <th>3</th>\n",
       "      <td>895</td>\n",
       "      <td>3</td>\n",
       "      <td>male</td>\n",
       "      <td>27.0</td>\n",
       "      <td>0</td>\n",
       "      <td>0</td>\n",
       "      <td>8.6625</td>\n",
       "      <td>S</td>\n",
       "      <td>Mr</td>\n",
       "    </tr>\n",
       "  </tbody>\n",
       "</table>\n",
       "</div>"
      ],
      "text/plain": [
       "   PassengerId  Pclass     Sex   Age  SibSp  Parch    Fare Embarked  \\\n",
       "0          892       3    male  34.5      0      0  7.8292        Q   \n",
       "1          893       3  female  47.0      1      0  7.0000        S   \n",
       "2          894       2    male  62.0      0      0  9.6875        Q   \n",
       "3          895       3    male  27.0      0      0  8.6625        S   \n",
       "\n",
       "          Title  \n",
       "0            Mr  \n",
       "1  Female_Other  \n",
       "2            Mr  \n",
       "3            Mr  "
      ]
     },
     "execution_count": 17,
     "metadata": {},
     "output_type": "execute_result"
    }
   ],
   "source": [
    "test_data.head(4)"
   ]
  },
  {
   "cell_type": "code",
   "execution_count": 18,
   "id": "91518228",
   "metadata": {
    "execution": {
     "iopub.execute_input": "2023-02-25T03:59:06.915442Z",
     "iopub.status.busy": "2023-02-25T03:59:06.915009Z",
     "iopub.status.idle": "2023-02-25T03:59:07.413818Z",
     "shell.execute_reply": "2023-02-25T03:59:07.412242Z"
    },
    "papermill": {
     "duration": 0.517594,
     "end_time": "2023-02-25T03:59:07.416849",
     "exception": false,
     "start_time": "2023-02-25T03:59:06.899255",
     "status": "completed"
    },
    "tags": []
   },
   "outputs": [],
   "source": [
    "from sklearn.experimental import enable_iterative_imputer\n",
    "from sklearn.impute import KNNImputer\n",
    "from sklearn.compose import make_column_transformer\n",
    "from sklearn.preprocessing import OneHotEncoder"
   ]
  },
  {
   "cell_type": "code",
   "execution_count": 19,
   "id": "22b20728",
   "metadata": {
    "execution": {
     "iopub.execute_input": "2023-02-25T03:59:07.439363Z",
     "iopub.status.busy": "2023-02-25T03:59:07.438828Z",
     "iopub.status.idle": "2023-02-25T03:59:07.446272Z",
     "shell.execute_reply": "2023-02-25T03:59:07.443953Z"
    },
    "papermill": {
     "duration": 0.022763,
     "end_time": "2023-02-25T03:59:07.449665",
     "exception": false,
     "start_time": "2023-02-25T03:59:07.426902",
     "status": "completed"
    },
    "tags": []
   },
   "outputs": [],
   "source": [
    "ohe = OneHotEncoder(handle_unknown = 'ignore')\n",
    "impute = KNNImputer(n_neighbors=2)"
   ]
  },
  {
   "cell_type": "code",
   "execution_count": 20,
   "id": "cca38cda",
   "metadata": {
    "execution": {
     "iopub.execute_input": "2023-02-25T03:59:07.471059Z",
     "iopub.status.busy": "2023-02-25T03:59:07.470544Z",
     "iopub.status.idle": "2023-02-25T03:59:07.491068Z",
     "shell.execute_reply": "2023-02-25T03:59:07.488948Z"
    },
    "papermill": {
     "duration": 0.036122,
     "end_time": "2023-02-25T03:59:07.494684",
     "exception": false,
     "start_time": "2023-02-25T03:59:07.458562",
     "status": "completed"
    },
    "tags": []
   },
   "outputs": [
    {
     "name": "stdout",
     "output_type": "stream",
     "text": [
      "<class 'pandas.core.frame.DataFrame'>\n",
      "RangeIndex: 891 entries, 0 to 890\n",
      "Data columns (total 8 columns):\n",
      " #   Column    Non-Null Count  Dtype  \n",
      "---  ------    --------------  -----  \n",
      " 0   Pclass    891 non-null    int64  \n",
      " 1   SibSp     891 non-null    int64  \n",
      " 2   Parch     891 non-null    int64  \n",
      " 3   Sex       891 non-null    object \n",
      " 4   Age       714 non-null    float64\n",
      " 5   Fare      891 non-null    float64\n",
      " 6   Embarked  891 non-null    object \n",
      " 7   Title     891 non-null    object \n",
      "dtypes: float64(2), int64(3), object(3)\n",
      "memory usage: 55.8+ KB\n"
     ]
    }
   ],
   "source": [
    "train_trans = train_data[['Pclass', 'SibSp', 'Parch', 'Sex', 'Age', 'Fare', 'Embarked', 'Title']]\n",
    "test_trans = test_data[['Pclass', 'SibSp', 'Parch', 'Sex', 'Age', 'Fare', 'Embarked', 'Title']]\n",
    "train_trans.info()"
   ]
  },
  {
   "cell_type": "code",
   "execution_count": 21,
   "id": "f5b04d22",
   "metadata": {
    "execution": {
     "iopub.execute_input": "2023-02-25T03:59:07.516762Z",
     "iopub.status.busy": "2023-02-25T03:59:07.516296Z",
     "iopub.status.idle": "2023-02-25T03:59:07.587778Z",
     "shell.execute_reply": "2023-02-25T03:59:07.585916Z"
    },
    "papermill": {
     "duration": 0.087939,
     "end_time": "2023-02-25T03:59:07.593341",
     "exception": false,
     "start_time": "2023-02-25T03:59:07.505402",
     "status": "completed"
    },
    "tags": []
   },
   "outputs": [],
   "source": [
    "ct = make_column_transformer(\n",
    "                    (ohe, ['Pclass', 'Embarked', 'Sex', 'Title'] ),\n",
    "                    (impute, ['Age', 'Fare']),\n",
    "                    remainder='passthrough')\n",
    "\n",
    "X_train_transformed = ct.fit_transform(train_trans)\n",
    "X_test_transformed = ct.transform(test_trans)"
   ]
  },
  {
   "cell_type": "code",
   "execution_count": 22,
   "id": "27fb4d9f",
   "metadata": {
    "execution": {
     "iopub.execute_input": "2023-02-25T03:59:07.645341Z",
     "iopub.status.busy": "2023-02-25T03:59:07.643158Z",
     "iopub.status.idle": "2023-02-25T03:59:07.698913Z",
     "shell.execute_reply": "2023-02-25T03:59:07.697966Z"
    },
    "papermill": {
     "duration": 0.084814,
     "end_time": "2023-02-25T03:59:07.701448",
     "exception": false,
     "start_time": "2023-02-25T03:59:07.616634",
     "status": "completed"
    },
    "tags": []
   },
   "outputs": [
    {
     "data": {
      "text/html": [
       "<div>\n",
       "<style scoped>\n",
       "    .dataframe tbody tr th:only-of-type {\n",
       "        vertical-align: middle;\n",
       "    }\n",
       "\n",
       "    .dataframe tbody tr th {\n",
       "        vertical-align: top;\n",
       "    }\n",
       "\n",
       "    .dataframe thead th {\n",
       "        text-align: right;\n",
       "    }\n",
       "</style>\n",
       "<table border=\"1\" class=\"dataframe\">\n",
       "  <thead>\n",
       "    <tr style=\"text-align: right;\">\n",
       "      <th></th>\n",
       "      <th>0</th>\n",
       "      <th>1</th>\n",
       "      <th>2</th>\n",
       "      <th>3</th>\n",
       "      <th>4</th>\n",
       "      <th>5</th>\n",
       "      <th>6</th>\n",
       "      <th>7</th>\n",
       "      <th>8</th>\n",
       "      <th>9</th>\n",
       "      <th>10</th>\n",
       "      <th>11</th>\n",
       "      <th>12</th>\n",
       "      <th>13</th>\n",
       "      <th>14</th>\n",
       "      <th>15</th>\n",
       "    </tr>\n",
       "  </thead>\n",
       "  <tbody>\n",
       "    <tr>\n",
       "      <th>0</th>\n",
       "      <td>0.0</td>\n",
       "      <td>0.0</td>\n",
       "      <td>1.0</td>\n",
       "      <td>0.0</td>\n",
       "      <td>1.0</td>\n",
       "      <td>0.0</td>\n",
       "      <td>0.0</td>\n",
       "      <td>1.0</td>\n",
       "      <td>0.0</td>\n",
       "      <td>0.0</td>\n",
       "      <td>0.0</td>\n",
       "      <td>1.0</td>\n",
       "      <td>34.5</td>\n",
       "      <td>7.8292</td>\n",
       "      <td>0.0</td>\n",
       "      <td>0.0</td>\n",
       "    </tr>\n",
       "    <tr>\n",
       "      <th>1</th>\n",
       "      <td>0.0</td>\n",
       "      <td>0.0</td>\n",
       "      <td>1.0</td>\n",
       "      <td>0.0</td>\n",
       "      <td>0.0</td>\n",
       "      <td>1.0</td>\n",
       "      <td>1.0</td>\n",
       "      <td>0.0</td>\n",
       "      <td>1.0</td>\n",
       "      <td>0.0</td>\n",
       "      <td>0.0</td>\n",
       "      <td>0.0</td>\n",
       "      <td>47.0</td>\n",
       "      <td>7.0000</td>\n",
       "      <td>1.0</td>\n",
       "      <td>0.0</td>\n",
       "    </tr>\n",
       "    <tr>\n",
       "      <th>2</th>\n",
       "      <td>0.0</td>\n",
       "      <td>1.0</td>\n",
       "      <td>0.0</td>\n",
       "      <td>0.0</td>\n",
       "      <td>1.0</td>\n",
       "      <td>0.0</td>\n",
       "      <td>0.0</td>\n",
       "      <td>1.0</td>\n",
       "      <td>0.0</td>\n",
       "      <td>0.0</td>\n",
       "      <td>0.0</td>\n",
       "      <td>1.0</td>\n",
       "      <td>62.0</td>\n",
       "      <td>9.6875</td>\n",
       "      <td>0.0</td>\n",
       "      <td>0.0</td>\n",
       "    </tr>\n",
       "    <tr>\n",
       "      <th>3</th>\n",
       "      <td>0.0</td>\n",
       "      <td>0.0</td>\n",
       "      <td>1.0</td>\n",
       "      <td>0.0</td>\n",
       "      <td>0.0</td>\n",
       "      <td>1.0</td>\n",
       "      <td>0.0</td>\n",
       "      <td>1.0</td>\n",
       "      <td>0.0</td>\n",
       "      <td>0.0</td>\n",
       "      <td>0.0</td>\n",
       "      <td>1.0</td>\n",
       "      <td>27.0</td>\n",
       "      <td>8.6625</td>\n",
       "      <td>0.0</td>\n",
       "      <td>0.0</td>\n",
       "    </tr>\n",
       "    <tr>\n",
       "      <th>4</th>\n",
       "      <td>0.0</td>\n",
       "      <td>0.0</td>\n",
       "      <td>1.0</td>\n",
       "      <td>0.0</td>\n",
       "      <td>0.0</td>\n",
       "      <td>1.0</td>\n",
       "      <td>1.0</td>\n",
       "      <td>0.0</td>\n",
       "      <td>1.0</td>\n",
       "      <td>0.0</td>\n",
       "      <td>0.0</td>\n",
       "      <td>0.0</td>\n",
       "      <td>22.0</td>\n",
       "      <td>12.2875</td>\n",
       "      <td>1.0</td>\n",
       "      <td>1.0</td>\n",
       "    </tr>\n",
       "    <tr>\n",
       "      <th>...</th>\n",
       "      <td>...</td>\n",
       "      <td>...</td>\n",
       "      <td>...</td>\n",
       "      <td>...</td>\n",
       "      <td>...</td>\n",
       "      <td>...</td>\n",
       "      <td>...</td>\n",
       "      <td>...</td>\n",
       "      <td>...</td>\n",
       "      <td>...</td>\n",
       "      <td>...</td>\n",
       "      <td>...</td>\n",
       "      <td>...</td>\n",
       "      <td>...</td>\n",
       "      <td>...</td>\n",
       "      <td>...</td>\n",
       "    </tr>\n",
       "    <tr>\n",
       "      <th>413</th>\n",
       "      <td>0.0</td>\n",
       "      <td>0.0</td>\n",
       "      <td>1.0</td>\n",
       "      <td>0.0</td>\n",
       "      <td>0.0</td>\n",
       "      <td>1.0</td>\n",
       "      <td>0.0</td>\n",
       "      <td>1.0</td>\n",
       "      <td>0.0</td>\n",
       "      <td>0.0</td>\n",
       "      <td>0.0</td>\n",
       "      <td>1.0</td>\n",
       "      <td>27.5</td>\n",
       "      <td>8.0500</td>\n",
       "      <td>0.0</td>\n",
       "      <td>0.0</td>\n",
       "    </tr>\n",
       "    <tr>\n",
       "      <th>414</th>\n",
       "      <td>1.0</td>\n",
       "      <td>0.0</td>\n",
       "      <td>0.0</td>\n",
       "      <td>1.0</td>\n",
       "      <td>0.0</td>\n",
       "      <td>0.0</td>\n",
       "      <td>1.0</td>\n",
       "      <td>0.0</td>\n",
       "      <td>1.0</td>\n",
       "      <td>0.0</td>\n",
       "      <td>0.0</td>\n",
       "      <td>0.0</td>\n",
       "      <td>39.0</td>\n",
       "      <td>108.9000</td>\n",
       "      <td>0.0</td>\n",
       "      <td>0.0</td>\n",
       "    </tr>\n",
       "    <tr>\n",
       "      <th>415</th>\n",
       "      <td>0.0</td>\n",
       "      <td>0.0</td>\n",
       "      <td>1.0</td>\n",
       "      <td>0.0</td>\n",
       "      <td>0.0</td>\n",
       "      <td>1.0</td>\n",
       "      <td>0.0</td>\n",
       "      <td>1.0</td>\n",
       "      <td>0.0</td>\n",
       "      <td>0.0</td>\n",
       "      <td>0.0</td>\n",
       "      <td>1.0</td>\n",
       "      <td>38.5</td>\n",
       "      <td>7.2500</td>\n",
       "      <td>0.0</td>\n",
       "      <td>0.0</td>\n",
       "    </tr>\n",
       "    <tr>\n",
       "      <th>416</th>\n",
       "      <td>0.0</td>\n",
       "      <td>0.0</td>\n",
       "      <td>1.0</td>\n",
       "      <td>0.0</td>\n",
       "      <td>0.0</td>\n",
       "      <td>1.0</td>\n",
       "      <td>0.0</td>\n",
       "      <td>1.0</td>\n",
       "      <td>0.0</td>\n",
       "      <td>0.0</td>\n",
       "      <td>0.0</td>\n",
       "      <td>1.0</td>\n",
       "      <td>27.5</td>\n",
       "      <td>8.0500</td>\n",
       "      <td>0.0</td>\n",
       "      <td>0.0</td>\n",
       "    </tr>\n",
       "    <tr>\n",
       "      <th>417</th>\n",
       "      <td>0.0</td>\n",
       "      <td>0.0</td>\n",
       "      <td>1.0</td>\n",
       "      <td>1.0</td>\n",
       "      <td>0.0</td>\n",
       "      <td>0.0</td>\n",
       "      <td>0.0</td>\n",
       "      <td>1.0</td>\n",
       "      <td>0.0</td>\n",
       "      <td>0.0</td>\n",
       "      <td>1.0</td>\n",
       "      <td>0.0</td>\n",
       "      <td>16.0</td>\n",
       "      <td>22.3583</td>\n",
       "      <td>1.0</td>\n",
       "      <td>1.0</td>\n",
       "    </tr>\n",
       "  </tbody>\n",
       "</table>\n",
       "<p>418 rows × 16 columns</p>\n",
       "</div>"
      ],
      "text/plain": [
       "      0    1    2    3    4    5    6    7    8    9    10   11    12  \\\n",
       "0    0.0  0.0  1.0  0.0  1.0  0.0  0.0  1.0  0.0  0.0  0.0  1.0  34.5   \n",
       "1    0.0  0.0  1.0  0.0  0.0  1.0  1.0  0.0  1.0  0.0  0.0  0.0  47.0   \n",
       "2    0.0  1.0  0.0  0.0  1.0  0.0  0.0  1.0  0.0  0.0  0.0  1.0  62.0   \n",
       "3    0.0  0.0  1.0  0.0  0.0  1.0  0.0  1.0  0.0  0.0  0.0  1.0  27.0   \n",
       "4    0.0  0.0  1.0  0.0  0.0  1.0  1.0  0.0  1.0  0.0  0.0  0.0  22.0   \n",
       "..   ...  ...  ...  ...  ...  ...  ...  ...  ...  ...  ...  ...   ...   \n",
       "413  0.0  0.0  1.0  0.0  0.0  1.0  0.0  1.0  0.0  0.0  0.0  1.0  27.5   \n",
       "414  1.0  0.0  0.0  1.0  0.0  0.0  1.0  0.0  1.0  0.0  0.0  0.0  39.0   \n",
       "415  0.0  0.0  1.0  0.0  0.0  1.0  0.0  1.0  0.0  0.0  0.0  1.0  38.5   \n",
       "416  0.0  0.0  1.0  0.0  0.0  1.0  0.0  1.0  0.0  0.0  0.0  1.0  27.5   \n",
       "417  0.0  0.0  1.0  1.0  0.0  0.0  0.0  1.0  0.0  0.0  1.0  0.0  16.0   \n",
       "\n",
       "           13   14   15  \n",
       "0      7.8292  0.0  0.0  \n",
       "1      7.0000  1.0  0.0  \n",
       "2      9.6875  0.0  0.0  \n",
       "3      8.6625  0.0  0.0  \n",
       "4     12.2875  1.0  1.0  \n",
       "..        ...  ...  ...  \n",
       "413    8.0500  0.0  0.0  \n",
       "414  108.9000  0.0  0.0  \n",
       "415    7.2500  0.0  0.0  \n",
       "416    8.0500  0.0  0.0  \n",
       "417   22.3583  1.0  1.0  \n",
       "\n",
       "[418 rows x 16 columns]"
      ]
     },
     "execution_count": 22,
     "metadata": {},
     "output_type": "execute_result"
    }
   ],
   "source": [
    "X_train_transformed = pd.DataFrame(X_train_transformed)\n",
    "X_test_transformed = pd.DataFrame(X_test_transformed)\n",
    "\n",
    "X_test_transformed"
   ]
  },
  {
   "cell_type": "code",
   "execution_count": 23,
   "id": "63725f7c",
   "metadata": {
    "execution": {
     "iopub.execute_input": "2023-02-25T03:59:07.723829Z",
     "iopub.status.busy": "2023-02-25T03:59:07.722493Z",
     "iopub.status.idle": "2023-02-25T03:59:07.734742Z",
     "shell.execute_reply": "2023-02-25T03:59:07.733445Z"
    },
    "papermill": {
     "duration": 0.02671,
     "end_time": "2023-02-25T03:59:07.738008",
     "exception": false,
     "start_time": "2023-02-25T03:59:07.711298",
     "status": "completed"
    },
    "tags": []
   },
   "outputs": [],
   "source": [
    "y = train_data[\"Survived\"]\n",
    "\n",
    "X = X_train_transformed\n",
    "X_test = X_test_transformed\n",
    "\n",
    "X[['SibSp', 'Parch']] = train_data[['SibSp', 'Parch']]\n",
    "X_test[['SibSp', 'Parch']] = test_data[['SibSp', 'Parch']]\n",
    "\n",
    "X.columns = X.columns.astype(str)\n",
    "X_test.columns = X_test.columns.astype(str)"
   ]
  },
  {
   "cell_type": "code",
   "execution_count": 24,
   "id": "1160a10d",
   "metadata": {
    "execution": {
     "iopub.execute_input": "2023-02-25T03:59:07.760523Z",
     "iopub.status.busy": "2023-02-25T03:59:07.760034Z",
     "iopub.status.idle": "2023-02-25T03:59:07.774900Z",
     "shell.execute_reply": "2023-02-25T03:59:07.773107Z"
    },
    "papermill": {
     "duration": 0.029368,
     "end_time": "2023-02-25T03:59:07.777839",
     "exception": false,
     "start_time": "2023-02-25T03:59:07.748471",
     "status": "completed"
    },
    "tags": []
   },
   "outputs": [
    {
     "name": "stdout",
     "output_type": "stream",
     "text": [
      "<class 'pandas.core.frame.DataFrame'>\n",
      "RangeIndex: 891 entries, 0 to 890\n",
      "Data columns (total 18 columns):\n",
      " #   Column  Non-Null Count  Dtype  \n",
      "---  ------  --------------  -----  \n",
      " 0   0       891 non-null    float64\n",
      " 1   1       891 non-null    float64\n",
      " 2   2       891 non-null    float64\n",
      " 3   3       891 non-null    float64\n",
      " 4   4       891 non-null    float64\n",
      " 5   5       891 non-null    float64\n",
      " 6   6       891 non-null    float64\n",
      " 7   7       891 non-null    float64\n",
      " 8   8       891 non-null    float64\n",
      " 9   9       891 non-null    float64\n",
      " 10  10      891 non-null    float64\n",
      " 11  11      891 non-null    float64\n",
      " 12  12      891 non-null    float64\n",
      " 13  13      891 non-null    float64\n",
      " 14  14      891 non-null    float64\n",
      " 15  15      891 non-null    float64\n",
      " 16  SibSp   891 non-null    int64  \n",
      " 17  Parch   891 non-null    int64  \n",
      "dtypes: float64(16), int64(2)\n",
      "memory usage: 125.4 KB\n"
     ]
    }
   ],
   "source": [
    "X.info()"
   ]
  },
  {
   "cell_type": "code",
   "execution_count": 25,
   "id": "f6a76a43",
   "metadata": {
    "execution": {
     "iopub.execute_input": "2023-02-25T03:59:07.799486Z",
     "iopub.status.busy": "2023-02-25T03:59:07.798639Z",
     "iopub.status.idle": "2023-02-25T03:59:43.825900Z",
     "shell.execute_reply": "2023-02-25T03:59:43.824461Z"
    },
    "papermill": {
     "duration": 36.04918,
     "end_time": "2023-02-25T03:59:43.836541",
     "exception": false,
     "start_time": "2023-02-25T03:59:07.787361",
     "status": "completed"
    },
    "tags": []
   },
   "outputs": [
    {
     "name": "stdout",
     "output_type": "stream",
     "text": [
      "CPU times: user 1.57 s, sys: 132 ms, total: 1.71 s\n",
      "Wall time: 35.9 s\n",
      "Best parameters: {'n_estimators': 100, 'min_samples_split': 3, 'min_samples_leaf': 1, 'max_depth': 5, 'bootstrap': False}\n",
      "Best score: 0.8338710689849979\n"
     ]
    }
   ],
   "source": [
    "from sklearn.model_selection import RandomizedSearchCV\n",
    "from sklearn.ensemble import RandomForestClassifier\n",
    "\n",
    "\n",
    "param_grid =  {'n_estimators': [100, 200, 300],\n",
    "              'max_depth': [3, 5, 7],\n",
    "              'bootstrap': [True, False],\n",
    "              'min_samples_leaf': [1, 2, 4],\n",
    "              'min_samples_split': [2, 3, 4],}\n",
    "\n",
    "rf = RandomForestClassifier()\n",
    "\n",
    "rs = RandomizedSearchCV(estimator=rf, n_iter=50, param_distributions=param_grid, cv=5, n_jobs=-1, random_state = 1)\n",
    "\n",
    "%time rs.fit(X, y)\n",
    "\n",
    "print(\"Best parameters:\", rs.best_params_)\n",
    "print(\"Best score:\", rs.best_score_)"
   ]
  },
  {
   "cell_type": "code",
   "execution_count": 26,
   "id": "b2ec0851",
   "metadata": {
    "execution": {
     "iopub.execute_input": "2023-02-25T03:59:43.858000Z",
     "iopub.status.busy": "2023-02-25T03:59:43.857498Z",
     "iopub.status.idle": "2023-02-25T03:59:44.481467Z",
     "shell.execute_reply": "2023-02-25T03:59:44.480110Z"
    },
    "papermill": {
     "duration": 0.638364,
     "end_time": "2023-02-25T03:59:44.484437",
     "exception": false,
     "start_time": "2023-02-25T03:59:43.846073",
     "status": "completed"
    },
    "tags": []
   },
   "outputs": [
    {
     "name": "stdout",
     "output_type": "stream",
     "text": [
      "CPU times: user 536 ms, sys: 7.01 ms, total: 543 ms\n",
      "Wall time: 543 ms\n"
     ]
    }
   ],
   "source": [
    "model = RandomForestClassifier(n_estimators=300, \n",
    "                               max_depth=5,\n",
    "                               min_samples_leaf = 4,\n",
    "                               min_samples_split = 4,\n",
    "                               bootstrap = True,\n",
    "                               random_state=1)\n",
    "%time model.fit(X, y)\n",
    "predictions = model.predict(X_test)"
   ]
  },
  {
   "cell_type": "code",
   "execution_count": 27,
   "id": "91f73a23",
   "metadata": {
    "execution": {
     "iopub.execute_input": "2023-02-25T03:59:44.507033Z",
     "iopub.status.busy": "2023-02-25T03:59:44.506600Z",
     "iopub.status.idle": "2023-02-25T03:59:44.518171Z",
     "shell.execute_reply": "2023-02-25T03:59:44.516707Z"
    },
    "papermill": {
     "duration": 0.026606,
     "end_time": "2023-02-25T03:59:44.521240",
     "exception": false,
     "start_time": "2023-02-25T03:59:44.494634",
     "status": "completed"
    },
    "tags": []
   },
   "outputs": [],
   "source": [
    "output = pd.DataFrame({'PassengerId': test_data.PassengerId, 'Survived': predictions})\n",
    "output.to_csv('submission.csv', index=False)"
   ]
  }
 ],
 "metadata": {
  "kernelspec": {
   "display_name": "Python 3",
   "language": "python",
   "name": "python3"
  },
  "language_info": {
   "codemirror_mode": {
    "name": "ipython",
    "version": 3
   },
   "file_extension": ".py",
   "mimetype": "text/x-python",
   "name": "python",
   "nbconvert_exporter": "python",
   "pygments_lexer": "ipython3",
   "version": "3.7.12"
  },
  "papermill": {
   "default_parameters": {},
   "duration": 54.564288,
   "end_time": "2023-02-25T03:59:47.154400",
   "environment_variables": {},
   "exception": null,
   "input_path": "__notebook__.ipynb",
   "output_path": "__notebook__.ipynb",
   "parameters": {},
   "start_time": "2023-02-25T03:58:52.590112",
   "version": "2.3.4"
  }
 },
 "nbformat": 4,
 "nbformat_minor": 5
}
